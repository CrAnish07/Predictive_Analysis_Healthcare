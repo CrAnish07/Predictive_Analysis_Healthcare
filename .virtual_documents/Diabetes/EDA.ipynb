import pandas as pd
import numpy as np
import matplotlib.pyplot as plt
import seaborn as sns


data = pd.read_csv('diabetes.csv')


data.head()


data.describe()


data.info()





data.isna().sum()





data.duplicated().sum()





plt.figure(figsize=(12,6))
sns.countplot(x = 'Outcome', data = data)
plt.show()









plt.figure(figsize=(12,12))
for i, col in enumerate(data.columns[:-1]):
  plt.subplot(3,3,i+1)
  sns.boxplot(x = col, data = data)
plt.show()


sns.pairplot(data, hue= 'Outcome')
plt.show()


plt.figure(figsize=(12,12))
for i, col in enumerate(data.columns[:-1]):
  plt.subplot(3,3,i+1)
  sns.histplot(x = col, data = data, kde= True)
plt.show()


plt.figure(figsize=(12, 12))
sns.heatmap(data.corr(), vmin=-1.0, center=0, cmap='RdBu_r', annot=True)
plt.show()





from sklearn.preprocessing import StandardScaler
sc_X = StandardScaler()
X = pd.DataFrame(sc_X.fit_transform(data.drop(columns=['Outcome'])), columns=data.columns[:-1])


X.head()


y = data['Outcome']


y.head()


from sklearn.model_selection import train_test_split
X_train, X_test, y_train, y_test = train_test_split(X, y, test_size = 0.3, random_state = 0)


from sklearn.neighbors import KNeighborsClassifier

train_score = []
test_score = []

for i in range(1, 15):
  knn = KNeighborsClassifier(i)
  knn.fit(X_train, y_train)

  train_score.append(knn.score(X_train, y_train))
  test_score.append(knn.score(X_test, y_test))


max_train_score = max(train_score)
train_score_index = [i for i, v in enumerate(train_score) if v == max_train_score]
print("Max Train Score {} % and K = {}".format(max_train_score*100, list(map(lambda x: x+1, train_score_index))))


max_test_score = max(test_score)
test_score_index = [i for i, v in enumerate(test_score) if v == max_test_score]
print("Max Test Score {} % and K = {}".format(max_test_score*100, list(map(lambda x: x+1, test_score_index))))


plt.figure(figsize=(12,5))

data_for_plot = pd.DataFrame({'x': range(1, 15), 'Train Score': train_score, 'Test Score': test_score})

sns.lineplot(x='x', y='Train Score', data=data_for_plot, markers='*', label='Train Score')
sns.lineplot(x='x', y='Test Score', data=data_for_plot, markers='o', label='Test Score')
plt.show()


knn = KNeighborsClassifier(13)
knn.fit(X_train, y_train)
knn.score(X_test, y_test)


from sklearn.metrics import confusion_matrix
y_pred = knn.predict(X_test)
confusion_matrix(y_test, y_pred)


from sklearn.metrics import classification_report
print(classification_report(y_test, y_pred))



