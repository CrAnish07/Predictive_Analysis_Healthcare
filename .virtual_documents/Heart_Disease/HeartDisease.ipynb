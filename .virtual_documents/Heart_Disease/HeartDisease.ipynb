import pandas as pd
import numpy as np
import matplotlib.pyplot as plt
import seaborn as sns
from sklearn.model_selection import train_test_split
from sklearn.linear_model import LogisticRegression
from sklearn.metrics import accuracy_score


df = pd.read_csv("heart_disease_data.csv")


df.head()


df.shape


df.info()


df.describe()


df['target'].value_counts()





plt.figure(figsize=(10,5))
sns.countplot(x='target', data=df)
plt.show()


plt.figure(figsize=(14,14))
for i, col in enumerate(df.columns[:-1]):
  plt.subplot(4, 4, i+1)
  sns.boxplot(x = col, data=df)
plt.show()


sns.pairplot(df, hue='target')
plt.show()


plt.figure(figsize=(14,14))
for i, col in enumerate(df.columns[:-1]):
  plt.subplot(4, 4, i+1)
  sns.histplot(x = col, data=df, kde=True)
plt.show()


plt.figure(figsize=(14,14))
sns.heatmap(df.corr(), vmin=1.0, center=0.0, cmap='Spectral', annot=True)
plt.show()





x = df.drop(columns='target', axis=1)


y = df['target']





x_train, x_test, y_train, y_test = train_test_split(x, y, test_size=0.2, stratify=y, random_state=2)





model = LogisticRegression()


model.fit(x_train, y_train)


y_pred = model.predict(x_test)


score = accuracy_score(y_test, y_pred)


print("The Accuracy Score is: ", score)





input_data = (62, 0, 0, 140, 268, 0, 0, 160, 0, 3.6, 0, 2, 2)
arr = np.array(input_data)
print(arr)


prediction = model.predict(arr.reshape(1, -1))


if prediction == 0:
  print("YOU ARE HEALTHY")
else:
  print("CONSULT WITH DOCTOR")



